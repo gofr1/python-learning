{
 "cells": [
  {
   "cell_type": "code",
   "execution_count": 26,
   "metadata": {},
   "outputs": [],
   "source": [
    "import math\n",
    "import collections\n",
    "\n",
    "import numpy as np \n",
    "import pandas as pd \n",
    "import matplotlib.pyplot as pp\n",
    "from itertools import combinations\n",
    "\n",
    "%matplotlib inline"
   ]
  },
  {
   "cell_type": "code",
   "execution_count": 2,
   "metadata": {},
   "outputs": [],
   "source": [
    "words = sorted({line.rstrip().lower() for line in open('/usr/share/dict/words', 'r')})"
   ]
  },
  {
   "cell_type": "code",
   "execution_count": 8,
   "metadata": {},
   "outputs": [],
   "source": [
    "def find_palindrome(myword):\n",
    "    palindrome = myword[::-1]\n",
    "\n",
    "    for word in words:\n",
    "        if word == palindrome:\n",
    "            print(word)"
   ]
  },
  {
   "cell_type": "code",
   "execution_count": 10,
   "metadata": {},
   "outputs": [
    {
     "output_type": "stream",
     "name": "stdout",
     "text": "drawer\nCPU times: user 6.22 ms, sys: 0 ns, total: 6.22 ms\nWall time: 6.18 ms\n"
    }
   ],
   "source": [
    "%time find_palindrome('reward')"
   ]
  },
  {
   "cell_type": "code",
   "execution_count": 15,
   "metadata": {},
   "outputs": [],
   "source": [
    "def signature(word):\n",
    "    return ''.join(sorted(word))"
   ]
  },
  {
   "cell_type": "code",
   "execution_count": 16,
   "metadata": {},
   "outputs": [],
   "source": [
    "words_by_sig = collections.defaultdict(set)\n",
    "\n",
    "for word in words:\n",
    "    words_by_sig[signature(word)].add(word)"
   ]
  },
  {
   "cell_type": "code",
   "execution_count": 27,
   "metadata": {},
   "outputs": [
    {
     "output_type": "stream",
     "name": "stdout",
     "text": "CPU times: user 5 µs, sys: 0 ns, total: 5 µs\nWall time: 10.7 µs\n"
    }
   ],
   "source": [
    "%time\n",
    "pairs = []\n",
    "\n",
    "for word_set in words_by_sig.values():\n",
    "    for word1, word2 in itertools.combinations(word_set, 2):\n",
    "        if word1 == word2[::-1]:\n",
    "            pairs.append((word1, word2))"
   ]
  },
  {
   "cell_type": "code",
   "execution_count": 28,
   "metadata": {},
   "outputs": [
    {
     "output_type": "execute_result",
     "data": {
      "text/plain": "[('elba', 'able'),\n ('tuba', 'abut'),\n ('ca', 'ac'),\n ('raga', 'agar'),\n ('ages', 'sega'),\n ('ha', 'ah'),\n ('ila', 'ali'),\n ('delia', 'ailed'),\n ('mia', 'aim'),\n ('ajar', 'raja'),\n ('la', 'al'),\n ('lana', 'anal'),\n ('aral', 'lara'),\n ('regal', 'lager'),\n ('pals', 'slap'),\n ('ma', 'am'),\n ('dam', 'mad'),\n ('pam', 'map'),\n ('spam', 'maps'),\n ('yam', 'may')]"
     },
     "metadata": {},
     "execution_count": 28
    }
   ],
   "source": [
    "pairs[:20]"
   ]
  },
  {
   "cell_type": "code",
   "execution_count": null,
   "metadata": {},
   "outputs": [],
   "source": []
  }
 ],
 "metadata": {
  "language_info": {
   "codemirror_mode": {
    "name": "ipython",
    "version": 3
   },
   "file_extension": ".py",
   "mimetype": "text/x-python",
   "name": "python",
   "nbconvert_exporter": "python",
   "pygments_lexer": "ipython3",
   "version": "3.8.0-final"
  },
  "orig_nbformat": 2,
  "kernelspec": {
   "name": "python38064bit80c712c42d0845a6a4b19289fbf7986e",
   "display_name": "Python 3.8.0 64-bit"
  }
 },
 "nbformat": 4,
 "nbformat_minor": 2
}