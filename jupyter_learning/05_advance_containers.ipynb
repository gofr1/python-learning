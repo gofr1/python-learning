{
 "cells": [
  {
   "cell_type": "code",
   "execution_count": 1,
   "metadata": {},
   "outputs": [],
   "source": [
    "import math\n",
    "import collections\n",
    "\n",
    "import numpy as np \n",
    "import pandas as pd \n",
    "import matplotlib.pyplot as pp\n",
    "\n",
    "%matplotlib inline"
   ]
  },
  {
   "cell_type": "code",
   "execution_count": 2,
   "metadata": {},
   "outputs": [],
   "source": [
    "people = [('Michele', 'Vallisneri', 'July 15'),\n",
    "          ('Albert', 'Einstein', 'March 14'),\n",
    "          ('John', 'Lennon', 'October 9'),\n",
    "          ('Jocelyn', 'Bell Burnell', 'July 15')]"
   ]
  },
  {
   "cell_type": "code",
   "execution_count": 3,
   "metadata": {},
   "outputs": [
    {
     "output_type": "execute_result",
     "data": {
      "text/plain": "'Michele'"
     },
     "metadata": {},
     "execution_count": 3
    }
   ],
   "source": [
    "people[0][0]"
   ]
  },
  {
   "cell_type": "code",
   "execution_count": 4,
   "metadata": {},
   "outputs": [
    {
     "output_type": "execute_result",
     "data": {
      "text/plain": "'Vallisneri'"
     },
     "metadata": {},
     "execution_count": 4
    }
   ],
   "source": [
    "people[0][1]"
   ]
  },
  {
   "cell_type": "code",
   "execution_count": 6,
   "metadata": {},
   "outputs": [
    {
     "output_type": "execute_result",
     "data": {
      "text/plain": "[('Michele', 'Vallisneri', 'July 15'), ('Jocelyn', 'Bell Burnell', 'July 15')]"
     },
     "metadata": {},
     "execution_count": 6
    }
   ],
   "source": [
    "[person for person in people if person[2] == 'July 15']"
   ]
  },
  {
   "cell_type": "code",
   "execution_count": 39,
   "metadata": {},
   "outputs": [],
   "source": [
    "persontype = collections.namedtuple('person', ['firstname', 'lastname', 'birthday'])"
   ]
  },
  {
   "cell_type": "code",
   "execution_count": 40,
   "metadata": {},
   "outputs": [],
   "source": [
    "michele = persontype('Michele', 'Vallisneri', 'July 15')"
   ]
  },
  {
   "cell_type": "code",
   "execution_count": 41,
   "metadata": {},
   "outputs": [
    {
     "output_type": "execute_result",
     "data": {
      "text/plain": "person(firstname='Michele', lastname='Vallisneri', birthday='July 15')"
     },
     "metadata": {},
     "execution_count": 41
    }
   ],
   "source": [
    "michele"
   ]
  },
  {
   "cell_type": "code",
   "execution_count": 42,
   "metadata": {},
   "outputs": [],
   "source": [
    "michele = persontype(lastname='Vallisneri', firstname='Michele', birthday='July 15')"
   ]
  },
  {
   "cell_type": "code",
   "execution_count": 43,
   "metadata": {},
   "outputs": [
    {
     "output_type": "execute_result",
     "data": {
      "text/plain": "person(firstname='Michele', lastname='Vallisneri', birthday='July 15')"
     },
     "metadata": {},
     "execution_count": 43
    }
   ],
   "source": [
    "michele"
   ]
  },
  {
   "cell_type": "code",
   "execution_count": 44,
   "metadata": {},
   "outputs": [
    {
     "output_type": "execute_result",
     "data": {
      "text/plain": "('Michele', 'Vallisneri', 'July 15')"
     },
     "metadata": {},
     "execution_count": 44
    }
   ],
   "source": [
    "michele[0], michele[1], michele[2]"
   ]
  },
  {
   "cell_type": "code",
   "execution_count": 45,
   "metadata": {},
   "outputs": [
    {
     "output_type": "execute_result",
     "data": {
      "text/plain": "('Michele', 'Vallisneri', 'July 15')"
     },
     "metadata": {},
     "execution_count": 45
    }
   ],
   "source": [
    "michele.firstname, michele.lastname, michele.birthday"
   ]
  },
  {
   "cell_type": "code",
   "execution_count": 46,
   "metadata": {},
   "outputs": [
    {
     "output_type": "error",
     "ename": "TypeError",
     "evalue": "__new__() missing 2 required positional arguments: 'lastname' and 'birthday'",
     "traceback": [
      "\u001b[0;31m---------------------------------------------------------------------------\u001b[0m",
      "\u001b[0;31mTypeError\u001b[0m                                 Traceback (most recent call last)",
      "\u001b[0;32m<ipython-input-46-12c13b876ccb>\u001b[0m in \u001b[0;36m<module>\u001b[0;34m\u001b[0m\n\u001b[0;32m----> 1\u001b[0;31m \u001b[0mpersontype\u001b[0m\u001b[0;34m(\u001b[0m\u001b[0mpeople\u001b[0m\u001b[0;34m[\u001b[0m\u001b[0;36m0\u001b[0m\u001b[0;34m]\u001b[0m\u001b[0;34m)\u001b[0m\u001b[0;34m\u001b[0m\u001b[0;34m\u001b[0m\u001b[0m\n\u001b[0m",
      "\u001b[0;31mTypeError\u001b[0m: __new__() missing 2 required positional arguments: 'lastname' and 'birthday'"
     ]
    }
   ],
   "source": [
    "persontype(people[0])"
   ]
  },
  {
   "cell_type": "code",
   "execution_count": 47,
   "metadata": {},
   "outputs": [
    {
     "output_type": "execute_result",
     "data": {
      "text/plain": "person(firstname='Michele', lastname='Vallisneri', birthday='July 15')"
     },
     "metadata": {},
     "execution_count": 47
    }
   ],
   "source": [
    "persontype(*people[0])"
   ]
  },
  {
   "cell_type": "code",
   "execution_count": 48,
   "metadata": {},
   "outputs": [],
   "source": [
    "namedpeople = [persontype(*person) for person in people]"
   ]
  },
  {
   "cell_type": "code",
   "execution_count": 49,
   "metadata": {},
   "outputs": [
    {
     "output_type": "execute_result",
     "data": {
      "text/plain": "[person(firstname='Michele', lastname='Vallisneri', birthday='July 15'),\n person(firstname='Albert', lastname='Einstein', birthday='March 14'),\n person(firstname='John', lastname='Lennon', birthday='October 9'),\n person(firstname='Jocelyn', lastname='Bell Burnell', birthday='July 15')]"
     },
     "metadata": {},
     "execution_count": 49
    }
   ],
   "source": [
    "namedpeople"
   ]
  },
  {
   "cell_type": "code",
   "execution_count": 51,
   "metadata": {},
   "outputs": [
    {
     "output_type": "execute_result",
     "data": {
      "text/plain": "[person(firstname='Michele', lastname='Vallisneri', birthday='July 15'),\n person(firstname='Jocelyn', lastname='Bell Burnell', birthday='July 15')]"
     },
     "metadata": {},
     "execution_count": 51
    }
   ],
   "source": [
    "[person for person in namedpeople if person.birthday == 'July 15']"
   ]
  },
  {
   "cell_type": "code",
   "execution_count": 52,
   "metadata": {},
   "outputs": [],
   "source": [
    "from dataclasses import dataclass"
   ]
  },
  {
   "cell_type": "code",
   "execution_count": 53,
   "metadata": {},
   "outputs": [],
   "source": [
    "@dataclass\n",
    "class personclass:\n",
    "    firstname: str\n",
    "    lastname: str\n",
    "    birthday: str = 'unknown'"
   ]
  },
  {
   "cell_type": "code",
   "execution_count": 54,
   "metadata": {},
   "outputs": [],
   "source": [
    "michele = personclass('Michele', 'Vallisneri')"
   ]
  },
  {
   "cell_type": "code",
   "execution_count": 55,
   "metadata": {},
   "outputs": [
    {
     "output_type": "execute_result",
     "data": {
      "text/plain": "personclass(firstname='Michele', lastname='Vallisneri', birthday='unknown')"
     },
     "metadata": {},
     "execution_count": 55
    }
   ],
   "source": [
    "michele"
   ]
  },
  {
   "cell_type": "code",
   "execution_count": 56,
   "metadata": {},
   "outputs": [],
   "source": [
    "michele = personclass(firstname='Michele', lastname='Vallisneri')"
   ]
  },
  {
   "cell_type": "code",
   "execution_count": 57,
   "metadata": {},
   "outputs": [
    {
     "output_type": "execute_result",
     "data": {
      "text/plain": "personclass(firstname='Michele', lastname='Vallisneri', birthday='unknown')"
     },
     "metadata": {},
     "execution_count": 57
    }
   ],
   "source": [
    "michele"
   ]
  },
  {
   "cell_type": "code",
   "execution_count": 58,
   "metadata": {},
   "outputs": [
    {
     "output_type": "execute_result",
     "data": {
      "text/plain": "('Michele', 'Vallisneri', 'unknown')"
     },
     "metadata": {},
     "execution_count": 58
    }
   ],
   "source": [
    "michele.firstname, michele.lastname, michele.birthday"
   ]
  },
  {
   "cell_type": "code",
   "execution_count": 59,
   "metadata": {},
   "outputs": [
    {
     "output_type": "error",
     "ename": "TypeError",
     "evalue": "'personclass' object is not subscriptable",
     "traceback": [
      "\u001b[0;31m---------------------------------------------------------------------------\u001b[0m",
      "\u001b[0;31mTypeError\u001b[0m                                 Traceback (most recent call last)",
      "\u001b[0;32m<ipython-input-59-ea1e47737865>\u001b[0m in \u001b[0;36m<module>\u001b[0;34m\u001b[0m\n\u001b[0;32m----> 1\u001b[0;31m \u001b[0mmichele\u001b[0m\u001b[0;34m[\u001b[0m\u001b[0;36m0\u001b[0m\u001b[0;34m]\u001b[0m\u001b[0;34m\u001b[0m\u001b[0;34m\u001b[0m\u001b[0m\n\u001b[0m",
      "\u001b[0;31mTypeError\u001b[0m: 'personclass' object is not subscriptable"
     ]
    }
   ],
   "source": [
    "michele[0]"
   ]
  },
  {
   "cell_type": "code",
   "execution_count": 60,
   "metadata": {},
   "outputs": [
    {
     "output_type": "stream",
     "name": "stdout",
     "text": "personclass(firstname='Michele', lastname='Vallisneri', birthday='unknown')\n"
    }
   ],
   "source": [
    "print(michele)"
   ]
  },
  {
   "cell_type": "code",
   "execution_count": 61,
   "metadata": {},
   "outputs": [],
   "source": [
    "@dataclass\n",
    "class personclass2:\n",
    "    firstname: str\n",
    "    lastname: str\n",
    "    birthday: str = 'unknown'\n",
    "\n",
    "    def fullname(self):\n",
    "        return self.firstname + ' ' + self.lastname"
   ]
  },
  {
   "cell_type": "code",
   "execution_count": 62,
   "metadata": {},
   "outputs": [],
   "source": [
    "michele = personclass2('Michele', 'Vallisneri', 'July 15')"
   ]
  },
  {
   "cell_type": "code",
   "execution_count": 63,
   "metadata": {},
   "outputs": [
    {
     "output_type": "execute_result",
     "data": {
      "text/plain": "'Michele Vallisneri'"
     },
     "metadata": {},
     "execution_count": 63
    }
   ],
   "source": [
    "michele.fullname()"
   ]
  },
  {
   "cell_type": "code",
   "execution_count": 64,
   "metadata": {},
   "outputs": [],
   "source": [
    "def mydefault():\n",
    "    return \"I don't know\""
   ]
  },
  {
   "cell_type": "code",
   "execution_count": 65,
   "metadata": {},
   "outputs": [],
   "source": [
    "questions = collections.defaultdict(mydefault)"
   ]
  },
  {
   "cell_type": "code",
   "execution_count": 66,
   "metadata": {},
   "outputs": [
    {
     "output_type": "execute_result",
     "data": {
      "text/plain": "\"I don't know\""
     },
     "metadata": {},
     "execution_count": 66
    }
   ],
   "source": [
    "questions['The meaning of life']"
   ]
  },
  {
   "cell_type": "code",
   "execution_count": 70,
   "metadata": {},
   "outputs": [
    {
     "output_type": "execute_result",
     "data": {
      "text/plain": "defaultdict(<function __main__.mydefault()>,\n            {'The meaning of life': \"I don't know\"})"
     },
     "metadata": {},
     "execution_count": 70
    }
   ],
   "source": [
    "questions"
   ]
  },
  {
   "cell_type": "code",
   "execution_count": 67,
   "metadata": {},
   "outputs": [],
   "source": [
    "birthdays = {}\n",
    "\n",
    "for person in namedpeople:\n",
    "    if person.birthday in birthdays:\n",
    "        birthdays[person.birthday].append(person.firstname)\n",
    "    else:\n",
    "        birthdays[person.birthday] = [person.firstname]"
   ]
  },
  {
   "cell_type": "code",
   "execution_count": 68,
   "metadata": {},
   "outputs": [
    {
     "output_type": "execute_result",
     "data": {
      "text/plain": "{'July 15': ['Michele', 'Jocelyn'],\n 'March 14': ['Albert'],\n 'October 9': ['John']}"
     },
     "metadata": {},
     "execution_count": 68
    }
   ],
   "source": [
    "birthdays"
   ]
  },
  {
   "cell_type": "code",
   "execution_count": 69,
   "metadata": {},
   "outputs": [
    {
     "output_type": "execute_result",
     "data": {
      "text/plain": "[]"
     },
     "metadata": {},
     "execution_count": 69
    }
   ],
   "source": [
    "list()"
   ]
  },
  {
   "cell_type": "code",
   "execution_count": 72,
   "metadata": {},
   "outputs": [],
   "source": [
    "birthdays = collections.defaultdict(list)\n",
    "\n",
    "for person in namedpeople:\n",
    "    birthdays[person.birthday].append(person.firstname)"
   ]
  },
  {
   "cell_type": "code",
   "execution_count": 73,
   "metadata": {},
   "outputs": [
    {
     "output_type": "execute_result",
     "data": {
      "text/plain": "defaultdict(list,\n            {'July 15': ['Michele', 'Jocelyn'],\n             'March 14': ['Albert'],\n             'October 9': ['John']})"
     },
     "metadata": {},
     "execution_count": 73
    }
   ],
   "source": [
    "birthdays"
   ]
  },
  {
   "cell_type": "code",
   "execution_count": null,
   "metadata": {},
   "outputs": [],
   "source": []
  }
 ],
 "metadata": {
  "language_info": {
   "codemirror_mode": {
    "name": "ipython",
    "version": 3
   },
   "file_extension": ".py",
   "mimetype": "text/x-python",
   "name": "python",
   "nbconvert_exporter": "python",
   "pygments_lexer": "ipython3",
   "version": "3.8.0-final"
  },
  "orig_nbformat": 2,
  "kernelspec": {
   "name": "python38064bit80c712c42d0845a6a4b19289fbf7986e",
   "display_name": "Python 3.8.0 64-bit"
  }
 },
 "nbformat": 4,
 "nbformat_minor": 2
}